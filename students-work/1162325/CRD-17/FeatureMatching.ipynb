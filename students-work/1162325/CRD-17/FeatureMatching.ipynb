{
 "cells": [
  {
   "cell_type": "code",
   "execution_count": 1,
   "metadata": {},
   "outputs": [],
   "source": [
    "from commonfunctions import *\n",
    "import numpy as np\n",
    "import cv2\n",
    "import math\n",
    "from scipy import ndimage\n",
    "import math\n",
    "#import imutils\n",
    "from skimage.filters import threshold_otsu, threshold_local\n",
    "from skimage.morphology import binary_erosion, binary_dilation\n",
    "%matplotlib inline\n",
    "%load_ext autoreload\n",
    "%autoreload 2"
   ]
  },
  {
   "cell_type": "code",
   "execution_count": 2,
   "metadata": {},
   "outputs": [],
   "source": [
    "def show(img, factor=1,name=\"image\"):\n",
    "    \"\"\" \n",
    "    show an image until the escape key is pressed\n",
    "    :param factor: scale factor (default 1, half size)\n",
    "    \"\"\"\n",
    "    if factor != 1.0:\n",
    "        img = cv2.resize(img, (0,0), fx=factor, fy=factor) \n",
    "\n",
    "    cv2.imshow(name,img)\n",
    "    while(1):\n",
    "        k = cv2.waitKey(0)\n",
    "        if k==27:    # Esc key to stop\n",
    "            break\n",
    "    cv2.destroyAllWindows()"
   ]
  },
  {
   "cell_type": "code",
   "execution_count": 7,
   "metadata": {},
   "outputs": [
    {
     "name": "stdout",
     "output_type": "stream",
     "text": [
      "match\n"
     ]
    }
   ],
   "source": [
    "#This notebook aims to find the proper use of feature matching OpenCV function to identify musical notes\n",
    "chall1 = '/home/ahmad/Desktop/FeatureMatching/Chall1.jpeg'\n",
    "chall2 = '/home/ahmad/Desktop/FeatureMatching/Chall2.jpg'\n",
    "box = '/home/ahmad/Desktop/FeatureMatching/PJBox.jpg'\n",
    "logo = '/home/ahmad/Desktop/FeatureMatching/PJLogo.png'\n",
    "chall1 = cv2.imread(chall1)\n",
    "chall2 = cv2.imread(chall2)\n",
    "\n",
    "box = cv2.imread(box)\n",
    "logo = cv2.imread(logo)\n",
    "box = cv2.cvtColor(box, cv2.COLOR_BGR2GRAY)\n",
    "logo = cv2.cvtColor(logo, cv2.COLOR_BGR2GRAY)\n",
    "#show(chall1,1,\"Chall1\")\n",
    "#show(chall2,1,\"Chall2\")\n",
    "#show(box,1,\"Box\")\n",
    "#show(logo,1,\"Logo\")\n",
    "\n",
    "sift = cv2.SIFT_create()\n",
    "# find the keypoints and descriptors with SIFT\n",
    "kp1, des1 = sift.detectAndCompute(logo,None)\n",
    "kp2, des2 = sift.detectAndCompute(box,None)\n",
    "# FLANN parameters\n",
    "FLANN_INDEX_KDTREE = 1\n",
    "index_params = dict(algorithm = FLANN_INDEX_KDTREE, trees = 5)\n",
    "search_params = dict(checks=100)   # specifies number of time that trees are recursively traversed, improves precision\n",
    "flann = cv2.FlannBasedMatcher(index_params,search_params)\n",
    "matches = flann.knnMatch(des1,des2,k=2)\n",
    "# Need to draw only good matches, so create a mask\n",
    "matchesMask = [[0,0] for i in range(len(matches))]\n",
    "#ratio test as per Lowe's paper\n",
    "good = 0 \n",
    "for i,(m,n) in enumerate(matches):\n",
    "    if m.distance < 0.7*n.distance:\n",
    "        good +=1\n",
    "        matchesMask[i]=[1,0]\n",
    "draw_params = dict(matchColor = (0,255,0),\n",
    "                   singlePointColor = (255,0,0),\n",
    "                   matchesMask = matchesMask,\n",
    "                   flags = cv2.DrawMatchesFlags_DEFAULT)\n",
    "if (good > 5):\n",
    "    print(\"match\")\n",
    "img3 = cv2.drawMatchesKnn(logo,kp1,box,kp2,matches,None,**draw_params)\n",
    "show(img3, 1, \"Compared\")"
   ]
  },
  {
   "cell_type": "code",
   "execution_count": null,
   "metadata": {},
   "outputs": [],
   "source": [
    "'''\n",
    "Description of SIFT:\n",
    "First we compute Difference of Gaussians. Which is we get different gaussian blurs of the image \n",
    "and we subtract them from each other.\n",
    "Then we compute gradients of of the computed neighbourhood of the keypoint => histogram of gradients\n",
    "This gives us a descriptor vector\n",
    "\n",
    "'''"
   ]
  },
  {
   "cell_type": "code",
   "execution_count": null,
   "metadata": {},
   "outputs": [],
   "source": []
  },
  {
   "cell_type": "code",
   "execution_count": null,
   "metadata": {},
   "outputs": [],
   "source": []
  }
 ],
 "metadata": {
  "kernelspec": {
   "display_name": "Python 3",
   "language": "python",
   "name": "python3"
  },
  "language_info": {
   "codemirror_mode": {
    "name": "ipython",
    "version": 3
   },
   "file_extension": ".py",
   "mimetype": "text/x-python",
   "name": "python",
   "nbconvert_exporter": "python",
   "pygments_lexer": "ipython3",
   "version": "3.6.12"
  }
 },
 "nbformat": 4,
 "nbformat_minor": 4
}
