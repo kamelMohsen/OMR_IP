{
 "cells": [
  {
   "cell_type": "code",
   "execution_count": null,
   "metadata": {},
   "outputs": [],
   "source": [
    "from commonfunctions import *\n",
    "import math\n",
    "%matplotlib inline\n",
    "%load_ext autoreload\n",
    "%autoreload 2"
   ]
  },
  {
   "cell_type": "code",
   "execution_count": null,
   "metadata": {},
   "outputs": [],
   "source": [
    "img = read_img(\"/home/kamel/Desktop/Image/Project/kamel_trial/test.png\")\n",
    "bin_img = binarize_img (rgb2gray(img))\n",
    "show_images([img,bin_img],[\"Original\",\"Binarized\"])"
   ]
  },
  {
   "cell_type": "code",
   "execution_count": 5,
   "metadata": {},
   "outputs": [],
   "source": [
    "import numpy as np\n",
    "import cv2\n",
    "import math\n",
    "from scipy import ndimage\n",
    "\n",
    "\n",
    "\n",
    "def rotate_img(img,img_edges):\n",
    "    img_copy = np.copy(img)\n",
    "    lines = cv2.HoughLinesP(img_edges, 1, math.pi / 180.0, 100, minLineLength=100, maxLineGap=5)\n",
    "    angles = []\n",
    "    for [[x1, y1, x2, y2]] in lines:\n",
    "        cv2.line(img, (x1, y1), (x2, y2), (255, 0, 0), 3)\n",
    "        angle = math.degrees(math.atan2(y2 - y1, x2 - x1))\n",
    "        angles.append(angle)\n",
    "    median_angle = np.median(angles)\n",
    "    img_rotated = ndimage.rotate(img_copy, median_angle)\n",
    "    cv2.imwrite('fixed.jpg', img_rotated)  \n",
    "\n",
    "img = cv2.imread('/home/kamel/Desktop/Image/Project/OMR_IP/input/test.png')\n",
    "img = ndimage.rotate(img, -20)\n",
    "cv2.imwrite('Original.jpg', img)  \n",
    "img_gray = cv2.cvtColor(img, cv2.COLOR_BGR2GRAY)\n",
    "img_edges = cv2.Canny(img_gray, 100, 100, apertureSize=3)\n",
    "cv2.imwrite('edges.jpg', img_edges)  \n",
    "rotate_img(img,img_edges)"
   ]
  },
  {
   "cell_type": "code",
   "execution_count": null,
   "metadata": {},
   "outputs": [],
   "source": []
  }
 ],
 "metadata": {
  "kernelspec": {
   "display_name": "Python 3",
   "language": "python",
   "name": "python3"
  },
  "language_info": {
   "codemirror_mode": {
    "name": "ipython",
    "version": 3
   },
   "file_extension": ".py",
   "mimetype": "text/x-python",
   "name": "python",
   "nbconvert_exporter": "python",
   "pygments_lexer": "ipython3",
   "version": "3.6.12"
  }
 },
 "nbformat": 4,
 "nbformat_minor": 2
}
