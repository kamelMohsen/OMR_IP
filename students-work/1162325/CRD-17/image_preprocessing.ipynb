{
 "cells": [
  {
   "cell_type": "code",
   "execution_count": 1,
   "metadata": {},
   "outputs": [],
   "source": [
    "from commonfunctions import *\n",
    "import numpy as np\n",
    "import cv2\n",
    "import math\n",
    "from scipy import ndimage\n",
    "import math\n",
    "import imutils\n",
    "from skimage.filters import threshold_otsu, threshold_local\n",
    "from skimage.morphology import binary_erosion, binary_dilation\n",
    "%matplotlib inline\n",
    "%load_ext autoreload\n",
    "%autoreload 2"
   ]
  },
  {
   "cell_type": "markdown",
   "metadata": {},
   "source": [
    "## -----------------------------------\n",
    "# Auxilary Functions\n",
    "## -----------------------------------"
   ]
  },
  {
   "cell_type": "code",
   "execution_count": 2,
   "metadata": {},
   "outputs": [],
   "source": [
    "def digital_or_not(input_image):\n",
    "    \n",
    "    if '.png' in input_image.lower():\n",
    "        return  1\n",
    "    else:\n",
    "        return  0"
   ]
  },
  {
   "cell_type": "code",
<<<<<<< HEAD
   "execution_count": 2,
=======
   "execution_count": 3,
>>>>>>> main
   "metadata": {},
   "outputs": [],
   "source": [
    "def show(img, factor=1,name=\"image\"):\n",
    "    \"\"\" \n",
    "    show an image until the escape key is pressed\n",
    "    :param factor: scale factor (default 1, half size)\n",
    "    \"\"\"\n",
    "    if factor != 1.0:\n",
    "        img = cv2.resize(img, (0,0), fx=factor, fy=factor) \n",
    "\n",
    "    cv2.imshow(name,img)\n",
    "    while(1):\n",
    "        k = cv2.waitKey(0)\n",
    "        if k==27:    # Esc key to stop\n",
    "            break\n",
    "    cv2.destroyAllWindows()"
   ]
  },
  {
   "cell_type": "markdown",
   "metadata": {},
   "source": [
    "## -----------------------------------\n",
    "# Image Preprocessing\n",
    "## -----------------------------------"
   ]
  },
  {
   "cell_type": "code",
<<<<<<< HEAD
   "execution_count": 3,
=======
   "execution_count": 4,
>>>>>>> main
   "metadata": {},
   "outputs": [],
   "source": [
    "def gaussian(img,gaussian_kernel=5):\n",
    "    \n",
    "    if(len(img.shape)>2):\n",
    "        img = cv2.GaussianBlur(img,(gaussian_kernel,gaussian_kernel),0)\n",
    "        img = cv2.cvtColor(img, cv2.COLOR_BGR2GRAY)\n",
    "        mid = 0.5\n",
    "        mean = np.mean(img)\n",
    "        gamma = math.log(mid*255)/math.log(mean)\n",
    "        img = np.power(img, gamma).clip(0,255).astype(np.uint8)\n",
    "        img = cv2.cvtColor(img,cv2.COLOR_GRAY2RGB)\n",
    "    else:\n",
    "        img = cv2.GaussianBlur(img,(gaussian_kernel,gaussian_kernel),0)\n",
    "    \n",
    "    \n",
    "    return img"
   ]
  },
  {
   "cell_type": "code",
<<<<<<< HEAD
   "execution_count": 4,
=======
   "execution_count": 5,
>>>>>>> main
   "metadata": {},
   "outputs": [],
   "source": [
    "\n",
    "def rotate_img(img):\n",
    "    if(len(img.shape)>2):\n",
    "        img = cv2.cvtColor(img, cv2.COLOR_BGR2GRAY)\n",
    "    \n",
    "    height, width = img.shape\n",
    "    im_gs = img\n",
    "    max_skew = max(img.shape[0],img.shape[1])\n",
    "    # Create a grayscale image and denoise it\n",
    "    im_gs = cv2.fastNlMeansDenoising(im_gs, h=3)\n",
    "\n",
    "    # Create an inverted B&W copy using Otsu (automatic) thresholding\n",
    "    im_bw = cv2.threshold(im_gs, 0, 255, cv2.THRESH_BINARY_INV | cv2.THRESH_OTSU)[1]\n",
    "\n",
    "    # Detect lines in this image. Parameters here mostly arrived at by trial and error.\n",
    "    lines = cv2.HoughLinesP(\n",
    "        im_bw, 1, np.pi / 180, 200, minLineLength=width / 12, maxLineGap=width / 150\n",
    "    )\n",
    "\n",
    "    # Collect the angles of these lines (in radians)\n",
    "    angles = []\n",
    "    for line in lines:\n",
    "        x1, y1, x2, y2 = line[0]\n",
    "        angles.append(np.arctan2(y2 - y1, x2 - x1))\n",
    "\n",
    "    # If the majority of our lines are vertical, this is probably a landscape image\n",
    "    landscape = np.sum([abs(angle) > np.pi / 4 for angle in angles]) > len(angles) / 2\n",
    "\n",
    "    # Filter the angles to remove outliers based on max_skew\n",
    "    if landscape:\n",
    "        angles = [\n",
    "            angle\n",
    "            for angle in angles\n",
    "            if np.deg2rad(90 - max_skew) < abs(angle) < np.deg2rad(90 + max_skew)\n",
    "        ]\n",
    "    else:\n",
    "        angles = [angle for angle in angles if abs(angle) < np.deg2rad(max_skew)]\n",
    "\n",
    "    if len(angles) < 5:\n",
    "        # Insufficient data to deskew\n",
    "        return img\n",
    "\n",
    "    # Average the angles to a degree offset\n",
    "    angle_deg = np.rad2deg(np.median(angles))\n",
    "\n",
    "    # If this is landscape image, rotate the entire canvas appropriately\n",
    "    if landscape:\n",
    "        if angle_deg < 0:\n",
    "            img = cv2.rotate(img, cv2.ROTATE_90_CLOCKWISE)\n",
    "            angle_deg += 90\n",
    "        elif angle_deg > 0:\n",
    "            img = cv2.rotate(img, cv2.ROTATE_90_COUNTERCLOCKWISE)\n",
    "            angle_deg -= 90\n",
    "\n",
    "    # Rotate the image by the residual offset\n",
    "    M = cv2.getRotationMatrix2D((width / 2, height / 2), angle_deg, 1)\n",
    "    img = cv2.warpAffine(img, M, (width, height), borderMode=cv2.BORDER_REPLICATE)\n",
    "\n",
    "    return img"
   ]
  },
  {
   "cell_type": "code",
<<<<<<< HEAD
   "execution_count": 5,
=======
   "execution_count": 6,
>>>>>>> main
   "metadata": {},
   "outputs": [],
   "source": [
    "def binarize(img,block_size=25,neighbours=7):\n",
    "    if(len(img.shape)>2):\n",
    "        img = cv2.cvtColor(img, cv2.COLOR_BGR2GRAY)\n",
    "        img = cv2.adaptiveThreshold(img,255,cv2.ADAPTIVE_THRESH_GAUSSIAN_C,cv2.THRESH_BINARY,block_size,neighbours)\n",
    "    else:\n",
    "        img = cv2.adaptiveThreshold(img,255,cv2.ADAPTIVE_THRESH_GAUSSIAN_C,cv2.THRESH_BINARY,block_size,neighbours)\n",
    "    return img"
   ]
  },
  {
   "cell_type": "code",
<<<<<<< HEAD
   "execution_count": 6,
=======
   "execution_count": 7,
>>>>>>> main
   "metadata": {},
   "outputs": [],
   "source": [
    "def morphology(img,kernel_size=2):\n",
    "    kernel = cv2.getStructuringElement(cv2.MORPH_RECT,(kernel_size,kernel_size))\n",
    "    if(len(img.shape)>2):\n",
    "        img = cv2.cvtColor(img, cv2.COLOR_BGR2GRAY)\n",
    "        opening = cv2.morphologyEx(img, cv2.MORPH_OPEN, kernel)\n",
    "        closing = cv2.morphologyEx(img, cv2.MORPH_CLOSE, kernel)\n",
    "        img = closing\n",
    "        img = cv2.cvtColor(img,cv2.COLOR_GRAY2RGB)      \n",
    "    else:\n",
    "        opening = cv2.morphologyEx(img, cv2.MORPH_OPEN, kernel)\n",
    "        closing = cv2.morphologyEx(img, cv2.MORPH_CLOSE, kernel)\n",
    "        img = closing\n",
    "    return img"
   ]
  },
  {
   "cell_type": "code",
<<<<<<< HEAD
   "execution_count": 7,
   "metadata": {},
   "outputs": [],
   "source": [
    "def get_corners(img):\n",
    "    pass"
   ]
  },
  {
   "cell_type": "code",
   "execution_count": 8,
=======
   "execution_count": 51,
>>>>>>> main
   "metadata": {},
   "outputs": [],
   "source": [
    "def preprocess_img(img,show_steps=0,show_size=1,digital=1):\n",
    "    \n",
    "    if(digital != 1):\n",
    "        scale_percent = 50\n",
    "        width = int(img.shape[1] * scale_percent / 100)\n",
    "        height = int(img.shape[0] * scale_percent / 100)\n",
    "        dim = (width, height)\n",
    "        img = cv2.resize(img, dim, interpolation = cv2.INTER_AREA) \n",
    "        gaussian_kernel = 5\n",
    "        block_size = 27\n",
    "        neighbours = 3\n",
    "    else:\n",
    "        gaussian_kernel = 1\n",
    "        block_size = 65\n",
    "        neighbours = 1\n",
    "        \n",
    "    # rotate\n",
    "    img = rotate_img(img)\n",
    "    if(show_steps !=0 ):\n",
    "        show(img,show_size,\"Rotated\")\n",
    "    # Gaussian\n",
    "    img = gaussian(img,gaussian_kernel)\n",
    "    if(show_steps !=0 ):\n",
    "        show(img,show_size,\"Gaussian Filtered\")\n",
    "        \n",
    "    # local thresh\n",
    "    img = binarize(img,block_size,neighbours)\n",
    "    if(show_steps !=0 ):\n",
    "        show(img,show_size,\"Binarized\")\n",
    "\n",
    "    # morphology to remove noise\n",
    "    img = morphology(img,2)\n",
    "    if(show_steps !=0 ):\n",
    "        show(img,show_size,\"Morphology\")\n",
    "\n",
    "    return img"
   ]
  },
  {
   "cell_type": "markdown",
   "metadata": {},
   "source": [
    "## -----------------------------------\n",
    "# Staff Removal\n",
    "## -----------------------------------"
   ]
  },
  {
   "cell_type": "code",
<<<<<<< HEAD
   "execution_count": 9,
=======
   "execution_count": 44,
>>>>>>> main
   "metadata": {},
   "outputs": [],
   "source": [
    "def run_length_encoding(img):\n",
    "        \n",
    "    rows = img.shape[0]\n",
    "    cols = img.shape[1]\n",
    "\n",
    "    black_runs = []\n",
    "    white_runs = []\n",
    "    for i in range(cols):        \n",
    "        black_run = 0\n",
    "        white_run = 0\n",
    "\n",
    "        for j in range(rows):\n",
    "            if (img[j][i] == 255 and black_run == 0):\n",
    "                white_run += 1\n",
    "            if (img[j][i] == 0 and white_run != 0):\n",
    "                white_runs.append(white_run)\n",
    "                white_run = 0\n",
    "            if (img[j][i] == 0 and white_run == 0):\n",
    "                black_run += 1\n",
    "            if (img[j][i] == 255 and black_run != 0):\n",
    "                black_runs.append(black_run)\n",
    "                black_run = 0\n",
    "\n",
    "    return white_runs,black_runs"
   ]
  },
  {
   "cell_type": "code",
<<<<<<< HEAD
   "execution_count": 10,
=======
   "execution_count": 45,
>>>>>>> main
   "metadata": {},
   "outputs": [],
   "source": [
    "def get_common_run(rle):\n",
    "    \n",
    "    counter = np.zeros(5000)\n",
    "    for i in range(len(rle)):\n",
    "        counter[rle[i]] += 1\n",
    "        \n",
    "    return np.argmax(counter)\n"
   ]
  },
  {
   "cell_type": "code",
<<<<<<< HEAD
   "execution_count": 11,
=======
   "execution_count": 54,
>>>>>>> main
   "metadata": {},
   "outputs": [],
   "source": [
    "def remove_lines_non_digital(img,staff_thickness,staff_space):\n",
    "    rows = img.shape[0]\n",
    "    cols = img.shape[1]\n",
    "    \n",
    "    for i in range(cols):\n",
    "        j = 0\n",
    "        while j < rows:\n",
    "            if img[j][i] == 0 and j + staff_thickness < rows:\n",
    "                if np.sum(img[j:j+staff_thickness,i]) != 0:\n",
    "                    img[j:j+staff_thickness,i] = 255\n",
    "                    j +=  staff_thickness -1\n",
    "            j+=1\n",
    "    return img"
   ]
  },
  {
   "cell_type": "code",
   "execution_count": 55,
   "metadata": {},
   "outputs": [],
   "source": [
    "def remove_staff_lines(img,show_steps=1,show_size=1,digital=1):\n",
    "\n",
    "    white_rle,black_rle = run_length_encoding(img)\n",
    "    staff_thickness = get_common_run(black_rle) + 2\n",
    "    staff_space = get_common_run(white_rle) \n",
    "\n",
    "    img = remove_lines_non_digital(img,staff_thickness,staff_space)\n",
    "    if show_steps == 1 :\n",
    "        show(img,show_size,\"Removed Lines\")\n",
    "        \n",
    "    return img"
   ]
  },
  {
   "cell_type": "markdown",
   "metadata": {},
   "source": [
    "## -----------------------------------\n",
    "# Segmentation Part\n",
    "## -----------------------------------"
   ]
  },
  {
   "cell_type": "code",
<<<<<<< HEAD
   "execution_count": 12,
=======
   "execution_count": 56,
>>>>>>> main
   "metadata": {},
   "outputs": [],
   "source": [
    "def get_notes(img):\n",
    "    \"\"\" \n",
    "    Segements the notes\n",
    "    :param\n",
    "    img: the img to extract notes from\n",
    "    \"\"\"\n",
    "\n",
    "    if(len(img.shape)>2):\n",
    "        img = cv2.cvtColor(img, cv2.COLOR_BGR2GRAY)\n",
    "    gray = cv2.bitwise_not(img)\n",
    "    thresh = cv2.threshold(gray, 0, 255,cv2.THRESH_BINARY | cv2.THRESH_OTSU)[1]\n",
    "    proj = np.sum(thresh,axis=0)\n",
    "    avg = np.mean(proj)\n",
    "    start = 0\n",
    "    end = 0\n",
    "    started = False\n",
    "    segments = []\n",
    "    for i in range(len(proj)):\n",
    "        if proj[i] > int(avg/10) and started == False:\n",
    "            started = True\n",
    "        if proj[i] < int(avg/10) and started == True:\n",
    "            started = False\n",
    "            end = i\n",
    "            segments.append([start,end])\n",
    "            start = i\n",
    "\n",
    "    return segments"
   ]
  },
  {
   "cell_type": "code",
<<<<<<< HEAD
   "execution_count": 13,
=======
   "execution_count": 57,
>>>>>>> main
   "metadata": {},
   "outputs": [],
   "source": [
    "def segment_img(img,show_steps=1,show_size=1):\n",
    "    segments = get_notes(img)\n",
    "    if show_steps == 1 :\n",
    "        for i in range(len(segments)):\n",
    "            show(img[:,segments[i][0]:segments[i][1]],show_size,\"Segment\")\n",
    "    return segments"
   ]
  },
  {
   "cell_type": "markdown",
   "metadata": {},
   "source": [
    "## -----------------------------------\n",
    "# Main Code\n",
    "## -----------------------------------"
   ]
  },
  {
   "cell_type": "code",
<<<<<<< HEAD
   "execution_count": 14,
   "metadata": {},
   "outputs": [],
   "source": [
    "img = cv2.imread('/media/madmax/EC16D83D16D80B0A/CUFE/Fall_2021/CMPN446_ImageProcessing_and_ComputerVision/Project/OMR_IP/input/01.PNG') \n",
    "img = preprocess_img(img,gaussian_kernel=1,show_steps=1,img_size=1)\n",
=======
   "execution_count": 59,
   "metadata": {},
   "outputs": [],
   "source": [
    "input_image = '/home/kamel/Desktop/Image/Project/OMR_IP/input/17.jpg'\n",
    "img = cv2.imread(input_image) \n",
    "\n",
    "digital = digital_or_not(input_image)\n",
    "show_steps = 1\n",
    "show_size = 1\n",
    "\n",
>>>>>>> main
    "\n",
    "img = preprocess_img(img,show_steps,show_size,digital)\n",
    "img = remove_staff_lines(img,show_steps,show_size)\n",
    "# segments = segment_img(img,show_steps,show_size)\n",
    "\n",
    "\n"
   ]
  },
  {
<<<<<<< HEAD
   "cell_type": "code",
   "execution_count": 15,
   "metadata": {},
   "outputs": [
    {
     "data": {
      "image/png": "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\n",
      "text/plain": [
       "<Figure size 432x288 with 1 Axes>"
      ]
     },
     "metadata": {
      "needs_background": "light"
     },
     "output_type": "display_data"
    }
   ],
   "source": [
    "im_test=img[:,segments[0][0]:segments[0][1]]\n",
    "io.imshow(im_test) \n",
    "io.show()"
=======
   "cell_type": "markdown",
   "metadata": {},
   "source": [
    "## -----------------------------------\n",
    "# Not Needed\n",
    "## -----------------------------------"
>>>>>>> main
   ]
  },
  {
   "cell_type": "code",
<<<<<<< HEAD
   "execution_count": 22,
   "metadata": {},
   "outputs": [
    {
     "data": {
      "image/png": "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\n",
      "text/plain": [
       "<Figure size 432x288 with 1 Axes>"
      ]
     },
     "metadata": {
      "needs_background": "light"
     },
     "output_type": "display_data"
    },
    {
     "name": "stdout",
     "output_type": "stream",
     "text": [
      "[   0    0    0    0    0    0    0    0    0    0    0    0    0    0\n",
      "    0    0    0    0    0    0    0    0 1275 2040 2550 3060 3315 3825\n",
      " 3825 4335 4590 3570 3060 2550 2550 2550 2550 2295 2550 2805 2805 2550\n",
      " 2550 2805 2550 2550 2550 2040 2550 2550 2550 2550 2805 3060 2805 2805\n",
      " 3060 3060 3315 3315 3570 3315 3570 3825 3570 3315 3060 2805 2805 2805\n",
      " 2040 3315 3315 3315 3825 3825 4080 4335 4335 4590 4080 4080 4080 4335\n",
      " 4080 4080 3825 3570 2805 2805 2805 2040 5355 5355 5355 6885 7650 8415\n",
      " 8925 9180 9690 9945 9435 8670 7650 7140 6885 6885 6120 5610 5355 4845\n",
      " 4845 4845 3825 4335 4335 4335 4590 4590 4590 4845 5355 5355 5610 5100\n",
      " 3825 3825 3570 3570 4080 3825 4590 2805 2805 2805  510  765  765  765\n",
      " 1020 1020  765  765 1020 1020 1020 1020 2550 3315 3570 4335 4335 4590\n",
      " 4845 4845 5100 5100 4845 4590 4335 4080 3315 1785 2040 2295 2805 3060\n",
      " 4590 4845 4080 3060    0    0    0    0    0    0    0    0    0    0\n",
      "    0    0    0    0    0    0    0    0    0    0    0    0    0    0\n",
      "    0    0    0    0    0    0    0    0    0    0    0    0    0    0\n",
      "    0    0]\n"
     ]
    },
    {
     "data": {
      "image/png": "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\n",
      "text/plain": [
       "<Figure size 432x288 with 1 Axes>"
      ]
     },
     "metadata": {
      "needs_background": "light"
     },
     "output_type": "display_data"
    }
   ],
   "source": [
    "# Calculate horizontal projection\n",
    "im=np.copy(im_test)\n",
    "io.imshow(im) \n",
    "io.show()\n",
    "# Invert\n",
    "im = 255 - im\n",
    "proj = np.sum(im,1)\n",
    "print(proj)\n",
    "io.imshow(im) \n",
    "io.show()\n",
    "# showHist(proj)"
=======
   "execution_count": 17,
   "metadata": {},
   "outputs": [],
   "source": [
    "def get_horizontal_projection(img,show_steps=1,show_size=1):\n",
    "    if(len(img.shape)>2):\n",
    "        img = rgb2gray(img)\n",
    "    proj = np.sum(img,axis=1).astype(int)\n",
    "    \n",
    "    max_line = np.amax(proj)\n",
    "    staffs = proj == (max_line)\n",
    "    m = np.max(proj)\n",
    "    w = 500\n",
    "    result = np.zeros((proj.shape[0],500))\n",
    "\n",
    "    if show_steps == 1 :\n",
    "        for row in range(img.shape[0]):\n",
    "            cv2.line(result, (0,row), (int(proj[row]*w/m),row), (255,255,255), 1)\n",
    "        show(result,show_size,\"Horizontal Projection\")\n",
    "    return np.argsort(proj)"
>>>>>>> main
   ]
  },
  {
   "cell_type": "code",
<<<<<<< HEAD
   "execution_count": 23,
   "metadata": {},
   "outputs": [
    {
     "data": {
      "image/png": "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\n",
      "text/plain": [
       "<Figure size 432x288 with 1 Axes>"
      ]
     },
     "metadata": {
      "needs_background": "light"
     },
     "output_type": "display_data"
    },
    {
     "name": "stdout",
     "output_type": "stream",
     "text": [
      "[ 0  0  0  0  0  0  0  0  0  0  0  0  0  0  0  0  0  0  0  0  0  0  5  8\n",
      " 10 12 13 15 15 17 18 14 12 10 10 10 10  9 10 11 11 10 10 11 10 10 10  8\n",
      " 10 10 10 10 11 12 11 11 12 12 13 13 14 13 14 15 14 13 12 11 11 11  8 13\n",
      " 13 13 15 15 16 17 17 18 16 16 16 17 16 16 15 14 11 11 11  8 21 21 21 27\n",
      " 30 33 35 36 38 39 37 34 30 28 27 27 24 22 21 19 19 19 15 17 17 17 18 18\n",
      " 18 19 21 21 22 20 15 15 14 14 16 15 18 11 11 11  2  3  3  3  4  4  3  3\n",
      "  4  4  4  4 10 13 14 17 17 18 19 19 20 20 19 18 17 16 13  7  8  9 11 12\n",
      " 18 19 16 12  0  0  0  0  0  0  0  0  0  0  0  0  0  0  0  0  0  0  0  0\n",
      "  0  0  0  0  0  0  0  0  0  0  0  0  0  0  0  0  0  0  0  0]\n",
      "(212,)\n"
     ]
    },
    {
     "name": "stderr",
     "output_type": "stream",
     "text": [
      "/home/madmax/anaconda3/envs/IPENV/lib/python3.6/site-packages/skimage/io/_plugins/matplotlib_plugin.py:150: UserWarning: Low image data range; displaying image with stretched contrast.\n",
      "  lo, hi, cmap = _get_display_range(image)\n"
     ]
    },
    {
     "data": {
      "image/png": "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\n",
      "text/plain": [
       "<Figure size 432x288 with 2 Axes>"
      ]
     },
     "metadata": {
      "needs_background": "light"
     },
     "output_type": "display_data"
    }
   ],
   "source": [
    "im2=np.copy(im_test)\n",
    "io.imshow(im2) \n",
    "io.show()\n",
    "im2[im2==0]=1\n",
    "im2[im2==255]=0\n",
    "horizontal_projection = np.sum(im2, axis=1);\n",
    "print(horizontal_projection);\n",
    "print(horizontal_projection.shape)\n",
    "io.imshow(im2) \n",
    "io.show()\n",
    "# showHist(horizontal_projection)"
=======
   "execution_count": 18,
   "metadata": {},
   "outputs": [],
   "source": [
    "def identify_lines(img,show_steps=1,show_size=1):\n",
    "    \"\"\" \n",
    "    Gets horizontal projection and extracts five lines from it\n",
    "    :param\n",
    "    show_steps: wether show steps or not 0 dont show , 1 show\n",
    "    show_size : the size of the shown image a value to factor in x and y\n",
    "    \"\"\"\n",
    "    if(len(img.shape)>2):\n",
    "        img = cv2.cvtColor(img, cv2.COLOR_BGR2GRAY)\n",
    "    staffs = get_horizontal_projection(img,show_steps,show_size)\n",
    "    lines = []\n",
    "    for i in range(len(staffs)):\n",
    "        is_line = True\n",
    "        for j in range(len(lines)):\n",
    "            if(abs(staffs[i] - lines[j]) < int(img.shape[0]/30)):\n",
    "                is_line = False\n",
    "        if(is_line and staffs[i] - 6 > 0 and staffs[i] + 6 < img.shape[0]):\n",
    "            lines.append(staffs[i])\n",
    "        if(len(lines) == 5):\n",
    "            break\n",
    "\n",
    "    return img,lines"
>>>>>>> main
   ]
  },
  {
   "cell_type": "code",
   "execution_count": 11,
   "metadata": {},
   "outputs": [],
   "source": [
    "def remove_lines_digital(img,lines):\n",
    "    test_value = 100\n",
    "    pixels_tested = 6\n",
    "    for line in lines:\n",
    "        for i in range(2,img.shape[1]-2):\n",
    "            sum_up = 0\n",
    "            sum_down = 0\n",
    "            for j in range(pixels_tested):\n",
    "                sum_up += img[line-j-1][i]\n",
    "                sum_down += img[line+j][i]\n",
    "            if(sum_up > test_value and sum_down > test_value):\n",
    "                img[line][i] = 255\n",
    "                for j in range(pixels_tested):\n",
    "                    img[line-j][i] = 255\n",
    "                    img[line+j][i] = 255\n",
    "            elif (sum_up > test_value) :\n",
    "                \n",
    "                img[line][i] = 255\n",
    "                for j in range(pixels_tested):\n",
    "                    img[line-j][i] = 255\n",
    "            elif sum_down > test_value:\n",
    "                img[line][i] = 255\n",
    "                for j in range(pixels_tested):\n",
    "                    img[line+j][i] = 255\n",
    "    kernel = np.ones((3,3),np.uint8)\n",
    "    img = cv2.erode(img,kernel,iterations = 1)\n",
    "    return img"
   ]
  }
 ],
 "metadata": {
  "kernelspec": {
   "display_name": "Python 3",
   "language": "python",
   "name": "python3"
  },
  "language_info": {
   "codemirror_mode": {
    "name": "ipython",
    "version": 3
   },
   "file_extension": ".py",
   "mimetype": "text/x-python",
   "name": "python",
   "nbconvert_exporter": "python",
   "pygments_lexer": "ipython3",
   "version": "3.6.12"
  }
 },
 "nbformat": 4,
 "nbformat_minor": 2
}
