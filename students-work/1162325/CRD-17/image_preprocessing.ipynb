{
 "cells": [
  {
   "cell_type": "code",
   "execution_count": 1,
   "metadata": {},
   "outputs": [],
   "source": [
    "from commonfunctions import *\n",
    "import numpy as np\n",
    "import cv2\n",
    "import math\n",
    "from scipy import ndimage\n",
    "import math\n",
    "import imutils\n",
    "from skimage.filters import threshold_otsu, threshold_local\n",
    "from skimage.morphology import binary_erosion, binary_dilation\n",
    "%matplotlib inline\n",
    "%load_ext autoreload\n",
    "%autoreload 2"
   ]
  },
  {
   "cell_type": "markdown",
   "metadata": {},
   "source": [
    "## -----------------------------------\n",
    "# Auxilary Functions\n",
    "## -----------------------------------"
   ]
  },
  {
   "cell_type": "code",
   "execution_count": 2,
   "metadata": {},
   "outputs": [],
   "source": [
    "def digital_or_not(input_image):\n",
    "    \n",
    "    if '.png' in input_image.lower():\n",
    "        return  1\n",
    "    else:\n",
    "        return  0"
   ]
  },
  {
   "cell_type": "code",
   "execution_count": 3,
   "metadata": {},
   "outputs": [],
   "source": [
    "def show(img, factor=1,name=\"image\"):\n",
    "    \"\"\" \n",
    "    show an image until the escape key is pressed\n",
    "    :param factor: scale factor (default 1, half size)\n",
    "    \"\"\"\n",
    "    if factor != 1.0:\n",
    "        img = cv2.resize(img, (0,0), fx=factor, fy=factor) \n",
    "\n",
    "    cv2.imshow(name,img)\n",
    "    while(1):\n",
    "        k = cv2.waitKey(0)\n",
    "        if k==27:    # Esc key to stop\n",
    "            break\n",
    "    cv2.destroyAllWindows()"
   ]
  },
  {
   "cell_type": "markdown",
   "metadata": {},
   "source": [
    "## -----------------------------------\n",
    "# Image Preprocessing\n",
    "## -----------------------------------"
   ]
  },
  {
   "cell_type": "code",
   "execution_count": 4,
   "metadata": {},
   "outputs": [],
   "source": [
    "def gaussian(img,gaussian_kernel=5):\n",
    "    \n",
    "    if(len(img.shape)>2):\n",
    "        img = cv2.GaussianBlur(img,(gaussian_kernel,gaussian_kernel),0)\n",
    "        img = cv2.cvtColor(img, cv2.COLOR_BGR2GRAY)\n",
    "        mid = 0.5\n",
    "        mean = np.mean(img)\n",
    "        gamma = math.log(mid*255)/math.log(mean)\n",
    "        img = np.power(img, gamma).clip(0,255).astype(np.uint8)\n",
    "        img = cv2.cvtColor(img,cv2.COLOR_GRAY2RGB)\n",
    "    else:\n",
    "        img = cv2.GaussianBlur(img,(gaussian_kernel,gaussian_kernel),0)\n",
    "    \n",
    "    \n",
    "    return img"
   ]
  },
  {
   "cell_type": "code",
   "execution_count": 5,
   "metadata": {},
   "outputs": [],
   "source": [
    "\n",
    "def rotate_img(img):\n",
    "    if(len(img.shape)>2):\n",
    "        img = cv2.cvtColor(img, cv2.COLOR_BGR2GRAY)\n",
    "    \n",
    "    height, width = img.shape\n",
    "    im_gs = img\n",
    "    max_skew = max(img.shape[0],img.shape[1])\n",
    "    # Create a grayscale image and denoise it\n",
    "    im_gs = cv2.fastNlMeansDenoising(im_gs, h=3)\n",
    "\n",
    "    # Create an inverted B&W copy using Otsu (automatic) thresholding\n",
    "    im_bw = cv2.threshold(im_gs, 0, 255, cv2.THRESH_BINARY_INV | cv2.THRESH_OTSU)[1]\n",
    "\n",
    "    # Detect lines in this image. Parameters here mostly arrived at by trial and error.\n",
    "    lines = cv2.HoughLinesP(\n",
    "        im_bw, 1, np.pi / 180, 200, minLineLength=width / 12, maxLineGap=width / 150\n",
    "    )\n",
    "\n",
    "    # Collect the angles of these lines (in radians)\n",
    "    angles = []\n",
    "    for line in lines:\n",
    "        x1, y1, x2, y2 = line[0]\n",
    "        angles.append(np.arctan2(y2 - y1, x2 - x1))\n",
    "\n",
    "    # If the majority of our lines are vertical, this is probably a landscape image\n",
    "    landscape = np.sum([abs(angle) > np.pi / 4 for angle in angles]) > len(angles) / 2\n",
    "\n",
    "    # Filter the angles to remove outliers based on max_skew\n",
    "    if landscape:\n",
    "        angles = [\n",
    "            angle\n",
    "            for angle in angles\n",
    "            if np.deg2rad(90 - max_skew) < abs(angle) < np.deg2rad(90 + max_skew)\n",
    "        ]\n",
    "    else:\n",
    "        angles = [angle for angle in angles if abs(angle) < np.deg2rad(max_skew)]\n",
    "\n",
    "    if len(angles) < 5:\n",
    "        # Insufficient data to deskew\n",
    "        return img\n",
    "\n",
    "    # Average the angles to a degree offset\n",
    "    angle_deg = np.rad2deg(np.median(angles))\n",
    "\n",
    "    # If this is landscape image, rotate the entire canvas appropriately\n",
    "    if landscape:\n",
    "        if angle_deg < 0:\n",
    "            img = cv2.rotate(img, cv2.ROTATE_90_CLOCKWISE)\n",
    "            angle_deg += 90\n",
    "        elif angle_deg > 0:\n",
    "            img = cv2.rotate(img, cv2.ROTATE_90_COUNTERCLOCKWISE)\n",
    "            angle_deg -= 90\n",
    "\n",
    "    # Rotate the image by the residual offset\n",
    "    M = cv2.getRotationMatrix2D((width / 2, height / 2), angle_deg, 1)\n",
    "    img = cv2.warpAffine(img, M, (width, height), borderMode=cv2.BORDER_REPLICATE)\n",
    "\n",
    "    return img"
   ]
  },
  {
   "cell_type": "code",
   "execution_count": 6,
   "metadata": {},
   "outputs": [],
   "source": [
    "def binarize(img,block_size=25,neighbours=7):\n",
    "    if(len(img.shape)>2):\n",
    "        img = cv2.cvtColor(img, cv2.COLOR_BGR2GRAY)\n",
    "        img = cv2.adaptiveThreshold(img,255,cv2.ADAPTIVE_THRESH_GAUSSIAN_C,cv2.THRESH_BINARY,block_size,neighbours)\n",
    "    else:\n",
    "        img = cv2.adaptiveThreshold(img,255,cv2.ADAPTIVE_THRESH_GAUSSIAN_C,cv2.THRESH_BINARY,block_size,neighbours)\n",
    "    return img"
   ]
  },
  {
   "cell_type": "code",
   "execution_count": 7,
   "metadata": {},
   "outputs": [],
   "source": [
    "def morphology(img,kernel_size=2):\n",
    "    kernel = cv2.getStructuringElement(cv2.MORPH_RECT,(kernel_size,kernel_size))\n",
    "    if(len(img.shape)>2):\n",
    "        img = cv2.cvtColor(img, cv2.COLOR_BGR2GRAY)\n",
    "        opening = cv2.morphologyEx(img, cv2.MORPH_OPEN, kernel)\n",
    "        closing = cv2.morphologyEx(img, cv2.MORPH_CLOSE, kernel)\n",
    "        img = closing\n",
    "        img = cv2.cvtColor(img,cv2.COLOR_GRAY2RGB)      \n",
    "    else:\n",
    "        opening = cv2.morphologyEx(img, cv2.MORPH_OPEN, kernel)\n",
    "        closing = cv2.morphologyEx(img, cv2.MORPH_CLOSE, kernel)\n",
    "        img = closing\n",
    "    return img"
   ]
  },
  {
   "cell_type": "code",
   "execution_count": 8,
   "metadata": {},
   "outputs": [],
   "source": [
    "def preprocess_img(img,show_steps=0,show_size=1,digital=1):\n",
    "    \n",
    "    if(digital != 1):\n",
    "        scale_percent = 50\n",
    "        width = int(img.shape[1] * scale_percent / 100)\n",
    "        height = int(img.shape[0] * scale_percent / 100)\n",
    "        dim = (width, height)\n",
    "        img = cv2.resize(img, dim, interpolation = cv2.INTER_AREA) \n",
    "        gaussian_kernel = 5\n",
    "        block_size = 27\n",
    "        neighbours = 3\n",
    "    else:\n",
    "        gaussian_kernel = 1\n",
    "        block_size = 65\n",
    "        neighbours = 1\n",
    "        \n",
    "    # rotate\n",
    "    img = rotate_img(img)\n",
    "    if(show_steps !=0 ):\n",
    "        show(img,show_size,\"Rotated\")\n",
    "    # Gaussian\n",
    "    img = gaussian(img,gaussian_kernel)\n",
    "    if(show_steps !=0 ):\n",
    "        show(img,show_size,\"Gaussian Filtered\")\n",
    "        \n",
    "    # local thresh\n",
    "    img = binarize(img,block_size,neighbours)\n",
    "    if(show_steps !=0 ):\n",
    "        show(img,show_size,\"Binarized\")\n",
    "\n",
    "    # morphology to remove noise\n",
    "    img = morphology(img,2)\n",
    "    if(show_steps !=0 ):\n",
    "        show(img,show_size,\"Morphology\")\n",
    "\n",
    "    return img"
   ]
  },
  {
   "cell_type": "markdown",
   "metadata": {},
   "source": [
    "## -----------------------------------\n",
    "# Staff Removal\n",
    "## -----------------------------------"
   ]
  },
  {
   "cell_type": "code",
   "execution_count": 9,
   "metadata": {},
   "outputs": [],
   "source": [
    "def run_length_encoding(img):\n",
    "        \n",
    "    rows = img.shape[0]\n",
    "    cols = img.shape[1]\n",
    "\n",
    "    black_runs = []\n",
    "    white_runs = []\n",
    "    for i in range(cols):        \n",
    "        black_run = 0\n",
    "        white_run = 0\n",
    "\n",
    "        for j in range(rows):\n",
    "            if (img[j][i] == 255 and black_run == 0):\n",
    "                white_run += 1\n",
    "            if (img[j][i] == 0 and white_run != 0):\n",
    "                white_runs.append(white_run)\n",
    "                white_run = 0\n",
    "            if (img[j][i] == 0 and white_run == 0):\n",
    "                black_run += 1\n",
    "            if (img[j][i] == 255 and black_run != 0):\n",
    "                black_runs.append(black_run)\n",
    "                black_run = 0\n",
    "\n",
    "    return white_runs,black_runs"
   ]
  },
  {
   "cell_type": "code",
   "execution_count": 10,
   "metadata": {},
   "outputs": [],
   "source": [
    "def get_common_run(rle):\n",
    "    \n",
    "    counter = np.zeros(5000)\n",
    "    for i in range(len(rle)):\n",
    "        counter[rle[i]] += 1\n",
    "        \n",
    "    return np.argmax(counter)\n"
   ]
  },
  {
   "cell_type": "code",
   "execution_count": 11,
   "metadata": {},
   "outputs": [],
   "source": [
    "def remove_lines_non_digital(img,staff_thickness,staff_space):\n",
    "    rows = img.shape[0]\n",
    "    cols = img.shape[1]\n",
    "    \n",
    "    for i in range(cols):\n",
    "        j = 0\n",
    "        while j < rows:\n",
    "            if img[j][i] == 0 and j + staff_thickness < rows:\n",
    "                if np.sum(img[j:j+staff_thickness,i]) != 0:\n",
    "                    img[j:j+staff_thickness,i] = 255\n",
    "                    j +=  staff_thickness -1\n",
    "            j+=1\n",
    "    return img"
   ]
  },
  {
   "cell_type": "code",
   "execution_count": 12,
   "metadata": {},
   "outputs": [],
   "source": [
    "def remove_staff_lines(img,show_steps=1,show_size=1,digital=1):\n",
    "\n",
    "    white_rle,black_rle = run_length_encoding(img)\n",
    "    staff_thickness = get_common_run(black_rle) + 2\n",
    "    staff_space = get_common_run(white_rle) \n",
    "\n",
    "    img = remove_lines_non_digital(img,staff_thickness,staff_space)\n",
    "    if show_steps == 1 :\n",
    "        show(img,show_size,\"Removed Lines\")\n",
    "        \n",
    "    return img,staff_space"
   ]
  },
  {
   "cell_type": "markdown",
   "metadata": {},
   "source": [
    "## -----------------------------------\n",
    "# Segmentation Part\n",
    "## -----------------------------------"
   ]
  },
  {
   "cell_type": "code",
   "execution_count": 13,
   "metadata": {},
   "outputs": [],
   "source": [
    "def get_notes(img):\n",
    "    \"\"\" \n",
    "    Segements the notes\n",
    "    :param\n",
    "    img: the img to extract notes from\n",
    "    \"\"\"\n",
    "\n",
    "    if(len(img.shape)>2):\n",
    "        img = cv2.cvtColor(img, cv2.COLOR_BGR2GRAY)\n",
    "    gray = cv2.bitwise_not(img)\n",
    "    thresh = cv2.threshold(gray, 0, 255,cv2.THRESH_BINARY | cv2.THRESH_OTSU)[1]\n",
    "    proj = np.sum(thresh,axis=0)\n",
    "    avg = np.mean(proj)\n",
    "    start = 0\n",
    "    end = 0\n",
    "    started = False\n",
    "    segments = []\n",
    "    for i in range(len(proj)):\n",
    "        if proj[i] > int(avg/10) and started == False:\n",
    "            started = True\n",
    "        if proj[i] < int(avg/10) and started == True:\n",
    "            started = False\n",
    "            end = i\n",
    "            segments.append([start,end])\n",
    "            start = i\n",
    "\n",
    "    return segments"
   ]
  },
  {
   "cell_type": "code",
   "execution_count": 14,
   "metadata": {},
   "outputs": [],
   "source": [
    "def segment_img(img,show_steps=1,show_size=1):\n",
    "    segments = get_notes(img)\n",
    "    if show_steps == 1 :\n",
    "        for i in range(len(segments)):\n",
    "            show(img[:,segments[i][0]:segments[i][1]],show_size,\"Segment\")\n",
    "    return segments"
   ]
  },
  {
   "cell_type": "markdown",
   "metadata": {},
   "source": [
    "## -----------------------------------\n",
    "# Main Code\n",
    "## -----------------------------------"
   ]
  },
  {
   "cell_type": "code",
   "execution_count": 41,
   "metadata": {},
   "outputs": [
    {
     "name": "stdout",
     "output_type": "stream",
     "text": [
      "17\n"
     ]
    }
   ],
   "source": [
    "input_image = '/media/madmax/MadMax_D/CUFE/Fall_2021/CMPN446_ImageProcessing_and_ComputerVision/Project/OMR_IP/input/29.jpg'\n",
    "img = cv2.imread(input_image) \n",
    "\n",
    "digital = digital_or_not(input_image)\n",
    "show_steps = 1\n",
    "show_size = 1\n",
    "\n",
    "\n",
    "img = preprocess_img(img,show_steps,show_size,digital)\n",
    "img,staff_space = remove_staff_lines(img,show_steps,show_size)\n",
    "segments = segment_img(img,show_steps,show_size)\n",
    "print(staff_space)\n",
    "\n"
   ]
  },
  {
   "cell_type": "code",
   "execution_count": 38,
   "metadata": {},
   "outputs": [
    {
     "name": "stdout",
     "output_type": "stream",
     "text": [
      "64\n"
     ]
    }
   ],
   "source": [
    "test = img[:,segments[6][0]:segments[6][1]]\n",
    "vertical =np.copy(test)\n",
    "show(test,show_size,\"Segment\")\n",
    "# print(test)\n",
    "# plt.hist(test.ravel(),256,[0,256]); plt.show()\n",
    "print(4*staff_space)\n",
    "for colum in range(test.shape[1]):\n",
    "    number_black_pixel=0\n",
    "    for row in range(test.shape[0]):\n",
    "        if test[row][colum] == 0:\n",
    "            number_black_pixel+=1\n",
    "#     print(number_black_pixel)\n",
    "    if number_black_pixel > 4*staff_space:\n",
    "        print(\"it's note\")\n",
    "        break"
   ]
  },
  {
   "cell_type": "markdown",
   "metadata": {},
   "source": [
    "## -----------------------------------\n",
    "# Not Needed\n",
    "## -----------------------------------"
   ]
  },
  {
   "cell_type": "code",
   "execution_count": null,
   "metadata": {},
   "outputs": [],
   "source": [
    "def get_horizontal_projection(img,show_steps=1,show_size=1):\n",
    "    if(len(img.shape)>2):\n",
    "        img = rgb2gray(img)\n",
    "    proj = np.sum(img,axis=1).astype(int)\n",
    "    \n",
    "    max_line = np.amax(proj)\n",
    "    staffs = proj == (max_line)\n",
    "    m = np.max(proj)\n",
    "    w = 500\n",
    "    result = np.zeros((proj.shape[0],500))\n",
    "\n",
    "    if show_steps == 1 :\n",
    "        for row in range(img.shape[0]):\n",
    "            cv2.line(result, (0,row), (int(proj[row]*w/m),row), (255,255,255), 1)\n",
    "        show(result,show_size,\"Horizontal Projection\")\n",
    "    return np.argsort(proj)"
   ]
  },
  {
   "cell_type": "code",
   "execution_count": null,
   "metadata": {},
   "outputs": [],
   "source": [
    "def identify_lines(img,show_steps=1,show_size=1):\n",
    "    \"\"\" \n",
    "    Gets horizontal projection and extracts five lines from it\n",
    "    :param\n",
    "    show_steps: wether show steps or not 0 dont show , 1 show\n",
    "    show_size : the size of the shown image a value to factor in x and y\n",
    "    \"\"\"\n",
    "    if(len(img.shape)>2):\n",
    "        img = cv2.cvtColor(img, cv2.COLOR_BGR2GRAY)\n",
    "    staffs = get_horizontal_projection(img,show_steps,show_size)\n",
    "    lines = []\n",
    "    for i in range(len(staffs)):\n",
    "        is_line = True\n",
    "        for j in range(len(lines)):\n",
    "            if(abs(staffs[i] - lines[j]) < int(img.shape[0]/30)):\n",
    "                is_line = False\n",
    "        if(is_line and staffs[i] - 6 > 0 and staffs[i] + 6 < img.shape[0]):\n",
    "            lines.append(staffs[i])\n",
    "        if(len(lines) == 5):\n",
    "            break\n",
    "\n",
    "    return img,lines"
   ]
  },
  {
   "cell_type": "code",
   "execution_count": null,
   "metadata": {},
   "outputs": [],
   "source": [
    "def remove_lines_digital(img,lines):\n",
    "    test_value = 100\n",
    "    pixels_tested = 6\n",
    "    for line in lines:\n",
    "        for i in range(2,img.shape[1]-2):\n",
    "            sum_up = 0\n",
    "            sum_down = 0\n",
    "            for j in range(pixels_tested):\n",
    "                sum_up += img[line-j-1][i]\n",
    "                sum_down += img[line+j][i]\n",
    "            if(sum_up > test_value and sum_down > test_value):\n",
    "                img[line][i] = 255\n",
    "                for j in range(pixels_tested):\n",
    "                    img[line-j][i] = 255\n",
    "                    img[line+j][i] = 255\n",
    "            elif (sum_up > test_value) :\n",
    "                \n",
    "                img[line][i] = 255\n",
    "                for j in range(pixels_tested):\n",
    "                    img[line-j][i] = 255\n",
    "            elif sum_down > test_value:\n",
    "                img[line][i] = 255\n",
    "                for j in range(pixels_tested):\n",
    "                    img[line+j][i] = 255\n",
    "    kernel = np.ones((3,3),np.uint8)\n",
    "    img = cv2.erode(img,kernel,iterations = 1)\n",
    "    return img"
   ]
  }
 ],
 "metadata": {
  "kernelspec": {
   "display_name": "Python 3",
   "language": "python",
   "name": "python3"
  },
  "language_info": {
   "codemirror_mode": {
    "name": "ipython",
    "version": 3
   },
   "file_extension": ".py",
   "mimetype": "text/x-python",
   "name": "python",
   "nbconvert_exporter": "python",
   "pygments_lexer": "ipython3",
   "version": "3.8.5"
  }
 },
 "nbformat": 4,
 "nbformat_minor": 2
}
