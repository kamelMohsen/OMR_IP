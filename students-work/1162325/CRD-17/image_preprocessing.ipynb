{
 "cells": [
  {
   "cell_type": "code",
   "execution_count": 46,
   "metadata": {},
   "outputs": [
    {
     "name": "stdout",
     "output_type": "stream",
     "text": [
      "The autoreload extension is already loaded. To reload it, use:\n",
      "  %reload_ext autoreload\n"
     ]
    }
   ],
   "source": [
    "from commonfunctions import *\n",
    "import numpy as np\n",
    "import cv2\n",
    "import math\n",
    "from scipy import ndimage\n",
    "import math\n",
    "from skimage.filters import threshold_otsu, threshold_local\n",
    "from skimage.morphology import binary_erosion, binary_dilation\n",
    "%matplotlib inline\n",
    "%load_ext autoreload\n",
    "%autoreload 2"
   ]
  },
  {
   "cell_type": "code",
   "execution_count": 47,
   "metadata": {},
   "outputs": [],
   "source": [
    "def show(img, factor=1,name=\"image\"):\n",
    "    \"\"\" show an image until the escape key is pressed\n",
    "    :param factor: scale factor (default 0.5, half size)\n",
    "    \"\"\"\n",
    "    if factor != 1.0:\n",
    "        img = cv2.resize(img, (0,0), fx=factor, fy=factor) \n",
    "\n",
    "    cv2.imshow(name,img)\n",
    "    while(1):\n",
    "        k = cv2.waitKey(0)\n",
    "        if k==27:    # Esc key to stop\n",
    "            break\n",
    "    cv2.destroyAllWindows()"
   ]
  },
  {
   "cell_type": "code",
   "execution_count": 48,
   "metadata": {},
   "outputs": [],
   "source": [
    "def gaussian(img,size=5):\n",
    "    \n",
    "    if(len(img.shape)>2):\n",
    "        img = cv2.cvtColor(img, cv2.COLOR_BGR2GRAY)\n",
    "        img = cv2.GaussianBlur(img,(size,size),0)\n",
    "        img = cv2.cvtColor(img,cv2.COLOR_GRAY2RGB)\n",
    "    else:\n",
    "        img = cv.GaussianBlur(img,(size,size),0)\n",
    "    \n",
    "    \n",
    "    return img"
   ]
  },
  {
   "cell_type": "code",
   "execution_count": 49,
   "metadata": {},
   "outputs": [],
   "source": [
    "def rotate_img(img):\n",
    "\n",
    "    if(len(img.shape)>2):\n",
    "        img = cv2.cvtColor(img, cv2.COLOR_BGR2GRAY)\n",
    "        gray = cv2.bitwise_not(img)\n",
    "        thresh = cv2.threshold(gray, 0, 255,cv2.THRESH_BINARY | cv2.THRESH_OTSU)[1]\n",
    "        coords = np.column_stack(np.where(thresh > 0))\n",
    "        angle = cv2.minAreaRect(coords)[-1]\n",
    "        if angle < -45:\n",
    "            angle = -(90 + angle)\n",
    "        else:\n",
    "            angle = -angle\n",
    "        img = cv2.cvtColor(img,cv2.COLOR_GRAY2RGB)\n",
    "        (h, w) = img.shape[:2]\n",
    "        center = (w // 2, h // 2)\n",
    "        M = cv2.getRotationMatrix2D(center, angle, 1.0)\n",
    "        img = cv2.warpAffine(img, M, (w, h),flags=cv2.INTER_CUBIC, borderMode=cv2.BORDER_REPLICATE)\n",
    "    else:\n",
    "        gray = cv2.bitwise_not(img)\n",
    "        thresh = cv2.threshold(gray, 0, 255,cv2.THRESH_BINARY | cv2.THRESH_OTSU)[1]\n",
    "        coords = np.column_stack(np.where(thresh > 0))\n",
    "        angle = cv2.minAreaRect(coords)[-1]\n",
    "        if angle < -45:\n",
    "            angle = -(90 + angle)\n",
    "        else:\n",
    "            angle = -angle\n",
    "        img = cv2.cvtColor(img,cv2.COLOR_GRAY2RGB)\n",
    "        (h, w) = img.shape[:2]\n",
    "        center = (w // 2, h // 2)\n",
    "        M = cv2.getRotationMatrix2D(center, angle, 1.0)\n",
    "        img = cv2.warpAffine(img, M, (w, h),flags=cv2.INTER_CUBIC, borderMode=cv2.BORDER_REPLICATE)\n",
    "    return img"
   ]
  },
  {
   "cell_type": "code",
   "execution_count": 50,
   "metadata": {},
   "outputs": [],
   "source": [
    "def binarize(img,block_size=25):\n",
    "    if(len(img.shape)>2):\n",
    "        img = cv2.cvtColor(img, cv2.COLOR_BGR2GRAY)\n",
    "        img = cv2.adaptiveThreshold(img,255,cv2.ADAPTIVE_THRESH_GAUSSIAN_C,cv2.THRESH_BINARY,block_size,2)\n",
    "        img = cv2.cvtColor(img,cv2.COLOR_GRAY2RGB)\n",
    "    else:\n",
    "        img = cv2.adaptiveThreshold(img,255,cv2.ADAPTIVE_THRESH_GAUSSIAN_C,cv2.THRESH_BINARY,block_size,2)\n",
    "    return img"
   ]
  },
  {
   "cell_type": "code",
   "execution_count": 51,
   "metadata": {},
   "outputs": [],
   "source": [
    "def morphology(img,kernel_size=5):\n",
    "    kernel = cv2.getStructuringElement(cv2.MORPH_RECT,(kernel_size,kernel_size))\n",
    "    if(len(img.shape)>2):\n",
    "        img = cv2.cvtColor(img, cv2.COLOR_BGR2GRAY)\n",
    "        opening = cv2.morphologyEx(img, cv2.MORPH_OPEN, kernel)\n",
    "        closing = cv2.morphologyEx(img, cv2.MORPH_CLOSE, kernel)\n",
    "        img = closing\n",
    "        img = cv2.cvtColor(img,cv2.COLOR_GRAY2RGB)      \n",
    "    else:\n",
    "        opening = cv2.morphologyEx(img, cv2.MORPH_OPEN, kernel)\n",
    "        closing = cv2.morphologyEx(img, cv2.MORPH_CLOSE, kernel)\n",
    "        img = closing\n",
    "    return img"
   ]
  },
  {
   "cell_type": "code",
   "execution_count": 52,
   "metadata": {},
   "outputs": [],
   "source": [
    "def get_corners(img):\n",
    "    pass"
   ]
  },
  {
   "cell_type": "code",
   "execution_count": 53,
   "metadata": {},
   "outputs": [],
   "source": [
    "def preprocess_img(img,gaussian_kernel=3,morph_kernel=2,show_steps=0,img_size=1):\n",
    "    # Fix prespective\n",
    "    #get_corners(img)\n",
    "\n",
    "    # Gaussian\n",
    "    img = gaussian(img,gaussian_kernel)\n",
    "    if(show_steps !=0 ):\n",
    "        show(img,img_size,\"Gaussian Filtered\")\n",
    "        \n",
    "    # local thresh\n",
    "    img = binarize(img)\n",
    "    if(show_steps !=0 ):\n",
    "        show(img,img_size,\"Binarized\")        \n",
    "\n",
    "    # rotate\n",
    "    img = rotate_img(img)\n",
    "    if(show_steps !=0 ):\n",
    "        show(img,img_size,\"Rotated\")\n",
    "\n",
    "    # morphology to remove noise\n",
    "    img = morphology(img,morph_kernel)\n",
    "    if(show_steps !=0 ):\n",
    "        show(img,img_size,\"Morphology\")\n",
    "\n",
    "    return img"
   ]
  },
  {
   "cell_type": "code",
   "execution_count": 54,
   "metadata": {},
   "outputs": [],
   "source": [
    "def segment_img(img):\n",
    "    if(len(img.shape)>2):\n",
    "        pic = plt.imread('/home/kamel/Desktop/Image/Project/OMR_IP/input/16.jpg')/255\n",
    "        pic_n = pic.reshape(pic.shape[0]*pic.shape[1], pic.shape[2])\n",
    "        pic_n.shape\n",
    "        from skimage import KMeans\n",
    "        kmeans = KMeans(n_clusters=5, random_state=0).fit(pic_n)\n",
    "        pic2show = kmeans.cluster_centers_[kmeans.labels_]\n",
    "        cluster_pic = pic2show.reshape(pic.shape[0], pic.shape[1], pic.shape[2])\n",
    "        plt.imshow(cluster_pic)\n",
    "    else:\n",
    "        photo = np.copy(img)\n",
    "        samples = photo.reshape((-1,3))\n",
    "        samples = np.float32(samples)\n",
    "        ct = (cv2.TERM_CRITERIA_EPS + cv2.TERM_CRITERIA_MAX_ITER, 10, 1.0)\n",
    "        compactness, labels, centers = cv2.kmeans(samples,10,ct,10,cv2.KMEANS_RANDOM_CENTERS)\n",
    "        centers = np.uint8(centers)\n",
    "        temp = centers[labels.flatten()]\n",
    "        img = temp.reshape((photo.shape))\n",
    "    return img"
   ]
  },
  {
   "cell_type": "code",
   "execution_count": 55,
   "metadata": {},
   "outputs": [],
   "source": [
    "def remove_lines(img,lines):\n",
    "    test_value = 100\n",
    "    pixels_tested = 4\n",
    "    for line in lines:\n",
    "        for i in range(2,img.shape[1]-2):\n",
    "            sum_up = 0\n",
    "            sum_down = 0\n",
    "            for j in range(pixels_tested):\n",
    "                sum_up += img[line-j-1][i]\n",
    "                sum_down += img[line+j][i]\n",
    "            if(sum_up > test_value and sum_down > test_value):\n",
    "                img[line][i] = 255\n",
    "                for j in range(pixels_tested):\n",
    "                    img[line-j][i] = 255\n",
    "                    img[line+j][i] = 255\n",
    "            elif (sum_up > test_value) :\n",
    "                \n",
    "                img[line][i] = 255\n",
    "                for j in range(pixels_tested):\n",
    "                    img[line-j][i] = 255\n",
    "            elif sum_down > test_value:\n",
    "                img[line][i] = 255\n",
    "                for j in range(pixels_tested):\n",
    "                    img[line+j][i] = 255\n",
    "    return img"
   ]
  },
  {
   "cell_type": "code",
   "execution_count": 56,
   "metadata": {},
   "outputs": [],
   "source": [
    "def get_staffs(img):\n",
    "    if(len(img.shape)>2):\n",
    "        img = rgb2gray(img)\n",
    "    proj = np.sum(img,axis=1).astype(int)\n",
    "    \n",
    "    max_line = np.amax(proj)\n",
    "    staffs = proj == (max_line)\n",
    "    m = np.max(proj)\n",
    "    w = 500\n",
    "    result = np.zeros((proj.shape[0],500))\n",
    "\n",
    "    # Draw a line for each row\n",
    "    for row in range(img.shape[0]):\n",
    "        cv2.line(result, (0,row), (int(proj[row]*w/m),row), (255,255,255), 1)\n",
    "    show(result)\n",
    "    return np.argsort(proj)"
   ]
  },
  {
   "cell_type": "code",
   "execution_count": 57,
   "metadata": {},
   "outputs": [],
   "source": [
    "def get_notes(img):\n",
    "    if(len(img.shape)>2):\n",
    "        img = cv2.cvtColor(img, cv2.COLOR_BGR2GRAY)\n",
    "    gray = cv2.bitwise_not(img)\n",
    "    thresh = cv2.threshold(gray, 0, 255,cv2.THRESH_BINARY | cv2.THRESH_OTSU)[1]\n",
    "    proj = np.sum(thresh,axis=0)\n",
    "    avg = np.mean(proj)\n",
    "    start = 0\n",
    "    end = 0\n",
    "    started = False\n",
    "    segments = []\n",
    "    for i in range(len(proj)):\n",
    "        if proj[i] > int(avg/2) and started == False:\n",
    "            started = True\n",
    "        if proj[i] < int(avg/2) and started == True:\n",
    "            started = False\n",
    "            end = i\n",
    "            segments.append([start,end])\n",
    "            start = i\n",
    "\n",
    "    return segments"
   ]
  },
  {
   "cell_type": "code",
   "execution_count": 58,
   "metadata": {},
   "outputs": [],
   "source": [
    "def identify_lines(img):\n",
    "    if(len(img.shape)>2):\n",
    "        img = cv2.cvtColor(img, cv2.COLOR_BGR2GRAY)\n",
    "    staffs = get_staffs(img)\n",
    "    lines = []\n",
    "    for i in range(len(staffs)):\n",
    "        is_line = True\n",
    "        for j in range(len(lines)):\n",
    "            if(abs(staffs[i] - lines[j]) < 10):\n",
    "                is_line = False\n",
    "        if(is_line and staffs[i] - 4 > 0 and staffs[i] + 4 < img.shape[0]):\n",
    "            lines.append(staffs[i])\n",
    "        if(len(lines) == 5):\n",
    "            break\n",
    "#     for i in range(len(lines)):\n",
    "#         img[lines[i]-3:lines[i]+3,:] = 0\n",
    "    return img,lines"
   ]
  },
  {
   "cell_type": "code",
   "execution_count": 61,
   "metadata": {},
   "outputs": [],
   "source": [
    "img = cv2.imread('/home/kamel/Desktop/Image/Project/OMR_IP/input/01.PNG') \n",
    "img = preprocess_img(img,gaussian_kernel=1,show_steps=1,img_size=1)\n",
    "\n",
    "img,lines = identify_lines(img)\n",
    "show(img,1,\"Bolded Lines\")\n",
    "\n",
    "img = remove_lines(img,lines)\n",
    "show(img,1,\"Removed Lines\")\n",
    "segments = get_notes(img)\n",
    "for i in range(len(segments)):\n",
    "    show(img[:,segments[i][0]:segments[i][1]],1,\"Segment\")"
   ]
  },
  {
   "cell_type": "code",
   "execution_count": null,
   "metadata": {},
   "outputs": [],
   "source": []
  },
  {
   "cell_type": "code",
   "execution_count": null,
   "metadata": {},
   "outputs": [],
   "source": []
  },
  {
   "cell_type": "code",
   "execution_count": null,
   "metadata": {},
   "outputs": [],
   "source": []
  },
  {
   "cell_type": "code",
   "execution_count": null,
   "metadata": {},
   "outputs": [],
   "source": []
  }
 ],
 "metadata": {
  "kernelspec": {
   "display_name": "Python 3",
   "language": "python",
   "name": "python3"
  },
  "language_info": {
   "codemirror_mode": {
    "name": "ipython",
    "version": 3
   },
   "file_extension": ".py",
   "mimetype": "text/x-python",
   "name": "python",
   "nbconvert_exporter": "python",
   "pygments_lexer": "ipython3",
   "version": "3.6.12"
  }
 },
 "nbformat": 4,
 "nbformat_minor": 2
}
